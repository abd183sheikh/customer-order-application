{
 "cells": [
  {
   "cell_type": "code",
   "execution_count": 2,
   "id": "ae8b7025",
   "metadata": {},
   "outputs": [],
   "source": [
    "import numpy as np\n",
    "import pandas as pd\n",
    "from sqlalchemy import create_engine"
   ]
  },
  {
   "cell_type": "code",
   "execution_count": 3,
   "id": "678a8f83",
   "metadata": {},
   "outputs": [],
   "source": [
    "orders=pd.read_csv(\"orders.csv\")\n",
    "users=pd.read_csv(\"users.csv\")"
   ]
  },
  {
   "cell_type": "code",
   "execution_count": 4,
   "id": "6d7f16cd",
   "metadata": {},
   "outputs": [
    {
     "data": {
      "text/html": [
       "<div>\n",
       "<style scoped>\n",
       "    .dataframe tbody tr th:only-of-type {\n",
       "        vertical-align: middle;\n",
       "    }\n",
       "\n",
       "    .dataframe tbody tr th {\n",
       "        vertical-align: top;\n",
       "    }\n",
       "\n",
       "    .dataframe thead th {\n",
       "        text-align: right;\n",
       "    }\n",
       "</style>\n",
       "<table border=\"1\" class=\"dataframe\">\n",
       "  <thead>\n",
       "    <tr style=\"text-align: right;\">\n",
       "      <th></th>\n",
       "      <th>order_id</th>\n",
       "      <th>user_id</th>\n",
       "      <th>status</th>\n",
       "      <th>gender</th>\n",
       "      <th>created_at</th>\n",
       "      <th>returned_at</th>\n",
       "      <th>shipped_at</th>\n",
       "      <th>delivered_at</th>\n",
       "      <th>num_of_item</th>\n",
       "    </tr>\n",
       "  </thead>\n",
       "  <tbody>\n",
       "    <tr>\n",
       "      <th>0</th>\n",
       "      <td>8</td>\n",
       "      <td>5</td>\n",
       "      <td>Cancelled</td>\n",
       "      <td>F</td>\n",
       "      <td>2022-10-20 10:03:00+00:00</td>\n",
       "      <td>NaN</td>\n",
       "      <td>NaN</td>\n",
       "      <td>NaN</td>\n",
       "      <td>3</td>\n",
       "    </tr>\n",
       "    <tr>\n",
       "      <th>1</th>\n",
       "      <td>60</td>\n",
       "      <td>44</td>\n",
       "      <td>Cancelled</td>\n",
       "      <td>F</td>\n",
       "      <td>2023-01-20 02:12:00+00:00</td>\n",
       "      <td>NaN</td>\n",
       "      <td>NaN</td>\n",
       "      <td>NaN</td>\n",
       "      <td>1</td>\n",
       "    </tr>\n",
       "    <tr>\n",
       "      <th>2</th>\n",
       "      <td>64</td>\n",
       "      <td>46</td>\n",
       "      <td>Cancelled</td>\n",
       "      <td>F</td>\n",
       "      <td>2021-12-06 09:11:00+00:00</td>\n",
       "      <td>NaN</td>\n",
       "      <td>NaN</td>\n",
       "      <td>NaN</td>\n",
       "      <td>1</td>\n",
       "    </tr>\n",
       "    <tr>\n",
       "      <th>3</th>\n",
       "      <td>89</td>\n",
       "      <td>65</td>\n",
       "      <td>Cancelled</td>\n",
       "      <td>F</td>\n",
       "      <td>2020-08-13 09:58:00+00:00</td>\n",
       "      <td>NaN</td>\n",
       "      <td>NaN</td>\n",
       "      <td>NaN</td>\n",
       "      <td>1</td>\n",
       "    </tr>\n",
       "    <tr>\n",
       "      <th>4</th>\n",
       "      <td>102</td>\n",
       "      <td>76</td>\n",
       "      <td>Cancelled</td>\n",
       "      <td>F</td>\n",
       "      <td>2023-01-17 08:17:00+00:00</td>\n",
       "      <td>NaN</td>\n",
       "      <td>NaN</td>\n",
       "      <td>NaN</td>\n",
       "      <td>2</td>\n",
       "    </tr>\n",
       "  </tbody>\n",
       "</table>\n",
       "</div>"
      ],
      "text/plain": [
       "   order_id  user_id     status gender                 created_at returned_at  \\\n",
       "0         8        5  Cancelled      F  2022-10-20 10:03:00+00:00         NaN   \n",
       "1        60       44  Cancelled      F  2023-01-20 02:12:00+00:00         NaN   \n",
       "2        64       46  Cancelled      F  2021-12-06 09:11:00+00:00         NaN   \n",
       "3        89       65  Cancelled      F  2020-08-13 09:58:00+00:00         NaN   \n",
       "4       102       76  Cancelled      F  2023-01-17 08:17:00+00:00         NaN   \n",
       "\n",
       "  shipped_at delivered_at  num_of_item  \n",
       "0        NaN          NaN            3  \n",
       "1        NaN          NaN            1  \n",
       "2        NaN          NaN            1  \n",
       "3        NaN          NaN            1  \n",
       "4        NaN          NaN            2  "
      ]
     },
     "execution_count": 4,
     "metadata": {},
     "output_type": "execute_result"
    }
   ],
   "source": [
    "orders.head()"
   ]
  },
  {
   "cell_type": "code",
   "execution_count": 5,
   "id": "561ce124",
   "metadata": {},
   "outputs": [
    {
     "data": {
      "text/html": [
       "<div>\n",
       "<style scoped>\n",
       "    .dataframe tbody tr th:only-of-type {\n",
       "        vertical-align: middle;\n",
       "    }\n",
       "\n",
       "    .dataframe tbody tr th {\n",
       "        vertical-align: top;\n",
       "    }\n",
       "\n",
       "    .dataframe thead th {\n",
       "        text-align: right;\n",
       "    }\n",
       "</style>\n",
       "<table border=\"1\" class=\"dataframe\">\n",
       "  <thead>\n",
       "    <tr style=\"text-align: right;\">\n",
       "      <th></th>\n",
       "      <th>id</th>\n",
       "      <th>first_name</th>\n",
       "      <th>last_name</th>\n",
       "      <th>email</th>\n",
       "      <th>age</th>\n",
       "      <th>gender</th>\n",
       "      <th>state</th>\n",
       "      <th>street_address</th>\n",
       "      <th>postal_code</th>\n",
       "      <th>city</th>\n",
       "      <th>country</th>\n",
       "      <th>latitude</th>\n",
       "      <th>longitude</th>\n",
       "      <th>traffic_source</th>\n",
       "      <th>created_at</th>\n",
       "    </tr>\n",
       "  </thead>\n",
       "  <tbody>\n",
       "    <tr>\n",
       "      <th>0</th>\n",
       "      <td>457</td>\n",
       "      <td>Timothy</td>\n",
       "      <td>Bush</td>\n",
       "      <td>timothybush@example.net</td>\n",
       "      <td>65</td>\n",
       "      <td>M</td>\n",
       "      <td>Acre</td>\n",
       "      <td>87620 Johnson Hills</td>\n",
       "      <td>69917-400</td>\n",
       "      <td>Rio Branco</td>\n",
       "      <td>Brasil</td>\n",
       "      <td>-9.945568</td>\n",
       "      <td>-67.83561</td>\n",
       "      <td>Search</td>\n",
       "      <td>2022-07-19 13:51:00+00:00</td>\n",
       "    </tr>\n",
       "    <tr>\n",
       "      <th>1</th>\n",
       "      <td>6578</td>\n",
       "      <td>Elizabeth</td>\n",
       "      <td>Martinez</td>\n",
       "      <td>elizabethmartinez@example.com</td>\n",
       "      <td>34</td>\n",
       "      <td>F</td>\n",
       "      <td>Acre</td>\n",
       "      <td>1705 Nielsen Land</td>\n",
       "      <td>69917-400</td>\n",
       "      <td>Rio Branco</td>\n",
       "      <td>Brasil</td>\n",
       "      <td>-9.945568</td>\n",
       "      <td>-67.83561</td>\n",
       "      <td>Search</td>\n",
       "      <td>2023-11-08 18:49:00+00:00</td>\n",
       "    </tr>\n",
       "    <tr>\n",
       "      <th>2</th>\n",
       "      <td>36280</td>\n",
       "      <td>Christopher</td>\n",
       "      <td>Mendoza</td>\n",
       "      <td>christophermendoza@example.net</td>\n",
       "      <td>13</td>\n",
       "      <td>M</td>\n",
       "      <td>Acre</td>\n",
       "      <td>125 Turner Isle Apt. 264</td>\n",
       "      <td>69917-400</td>\n",
       "      <td>Rio Branco</td>\n",
       "      <td>Brasil</td>\n",
       "      <td>-9.945568</td>\n",
       "      <td>-67.83561</td>\n",
       "      <td>Email</td>\n",
       "      <td>2019-08-24 06:10:00+00:00</td>\n",
       "    </tr>\n",
       "    <tr>\n",
       "      <th>3</th>\n",
       "      <td>60193</td>\n",
       "      <td>Jimmy</td>\n",
       "      <td>Conner</td>\n",
       "      <td>jimmyconner@example.com</td>\n",
       "      <td>64</td>\n",
       "      <td>M</td>\n",
       "      <td>Acre</td>\n",
       "      <td>0966 Jose Branch Apt. 008</td>\n",
       "      <td>69917-400</td>\n",
       "      <td>Rio Branco</td>\n",
       "      <td>Brasil</td>\n",
       "      <td>-9.945568</td>\n",
       "      <td>-67.83561</td>\n",
       "      <td>Search</td>\n",
       "      <td>2020-02-15 11:26:00+00:00</td>\n",
       "    </tr>\n",
       "    <tr>\n",
       "      <th>4</th>\n",
       "      <td>64231</td>\n",
       "      <td>Natasha</td>\n",
       "      <td>Wilson</td>\n",
       "      <td>natashawilson@example.net</td>\n",
       "      <td>25</td>\n",
       "      <td>F</td>\n",
       "      <td>Acre</td>\n",
       "      <td>20798 Phillip Trail Apt. 392</td>\n",
       "      <td>69917-400</td>\n",
       "      <td>Rio Branco</td>\n",
       "      <td>Brasil</td>\n",
       "      <td>-9.945568</td>\n",
       "      <td>-67.83561</td>\n",
       "      <td>Search</td>\n",
       "      <td>2020-03-13 06:45:00+00:00</td>\n",
       "    </tr>\n",
       "  </tbody>\n",
       "</table>\n",
       "</div>"
      ],
      "text/plain": [
       "      id   first_name last_name                           email  age gender  \\\n",
       "0    457      Timothy      Bush         timothybush@example.net   65      M   \n",
       "1   6578    Elizabeth  Martinez   elizabethmartinez@example.com   34      F   \n",
       "2  36280  Christopher   Mendoza  christophermendoza@example.net   13      M   \n",
       "3  60193        Jimmy    Conner         jimmyconner@example.com   64      M   \n",
       "4  64231      Natasha    Wilson       natashawilson@example.net   25      F   \n",
       "\n",
       "  state                street_address postal_code        city country  \\\n",
       "0  Acre           87620 Johnson Hills   69917-400  Rio Branco  Brasil   \n",
       "1  Acre             1705 Nielsen Land   69917-400  Rio Branco  Brasil   \n",
       "2  Acre      125 Turner Isle Apt. 264   69917-400  Rio Branco  Brasil   \n",
       "3  Acre     0966 Jose Branch Apt. 008   69917-400  Rio Branco  Brasil   \n",
       "4  Acre  20798 Phillip Trail Apt. 392   69917-400  Rio Branco  Brasil   \n",
       "\n",
       "   latitude  longitude traffic_source                 created_at  \n",
       "0 -9.945568  -67.83561         Search  2022-07-19 13:51:00+00:00  \n",
       "1 -9.945568  -67.83561         Search  2023-11-08 18:49:00+00:00  \n",
       "2 -9.945568  -67.83561          Email  2019-08-24 06:10:00+00:00  \n",
       "3 -9.945568  -67.83561         Search  2020-02-15 11:26:00+00:00  \n",
       "4 -9.945568  -67.83561         Search  2020-03-13 06:45:00+00:00  "
      ]
     },
     "execution_count": 5,
     "metadata": {},
     "output_type": "execute_result"
    }
   ],
   "source": [
    "users.head()"
   ]
  },
  {
   "cell_type": "code",
   "execution_count": 6,
   "id": "d1a0af84",
   "metadata": {},
   "outputs": [],
   "source": [
    "engine=create_engine(\"sqlite:///my_database.db\")"
   ]
  },
  {
   "cell_type": "code",
   "execution_count": 7,
   "id": "068bbc89",
   "metadata": {},
   "outputs": [
    {
     "data": {
      "text/plain": [
       "125226"
      ]
     },
     "execution_count": 7,
     "metadata": {},
     "output_type": "execute_result"
    }
   ],
   "source": [
    "orders.to_sql(\"orders\",engine,if_exists=\"replace\",index=False)"
   ]
  },
  {
   "cell_type": "code",
   "execution_count": 8,
   "id": "89534f88",
   "metadata": {},
   "outputs": [
    {
     "name": "stdout",
     "output_type": "stream",
     "text": [
      "        order_id  user_id     status gender                 created_at  \\\n",
      "0              8        5  Cancelled      F  2022-10-20 10:03:00+00:00   \n",
      "1             60       44  Cancelled      F  2023-01-20 02:12:00+00:00   \n",
      "2             64       46  Cancelled      F  2021-12-06 09:11:00+00:00   \n",
      "3             89       65  Cancelled      F  2020-08-13 09:58:00+00:00   \n",
      "4            102       76  Cancelled      F  2023-01-17 08:17:00+00:00   \n",
      "...          ...      ...        ...    ...                        ...   \n",
      "125221    125196    99972    Shipped      M  2022-06-25 11:56:00+00:00   \n",
      "125222    125199    99975    Shipped      M  2022-07-20 02:19:00+00:00   \n",
      "125223    125208    99983    Shipped      M  2022-03-14 15:06:00+00:00   \n",
      "125224    125210    99983    Shipped      M  2023-03-01 15:06:00+00:00   \n",
      "125225    125224    99999    Shipped      M  2023-12-22 11:29:00+00:00   \n",
      "\n",
      "       returned_at                 shipped_at delivered_at  num_of_item  \n",
      "0             None                       None         None            3  \n",
      "1             None                       None         None            1  \n",
      "2             None                       None         None            1  \n",
      "3             None                       None         None            1  \n",
      "4             None                       None         None            2  \n",
      "...            ...                        ...          ...          ...  \n",
      "125221        None  2022-06-28 08:24:00+00:00         None            1  \n",
      "125222        None  2022-07-22 11:08:00+00:00         None            4  \n",
      "125223        None  2022-03-17 05:15:00+00:00         None            1  \n",
      "125224        None  2023-03-02 10:50:00+00:00         None            2  \n",
      "125225        None  2023-12-24 00:44:00+00:00         None            2  \n",
      "\n",
      "[125226 rows x 9 columns]\n"
     ]
    }
   ],
   "source": [
    "print(pd.read_sql(\"SELECT * FROM orders\", con=engine))"
   ]
  },
  {
   "cell_type": "code",
   "execution_count": 9,
   "id": "ce270645",
   "metadata": {},
   "outputs": [
    {
     "data": {
      "text/plain": [
       "100000"
      ]
     },
     "execution_count": 9,
     "metadata": {},
     "output_type": "execute_result"
    }
   ],
   "source": [
    "users.to_sql(\"users\",engine,if_exists=\"replace\",index=False)"
   ]
  },
  {
   "cell_type": "code",
   "execution_count": 10,
   "id": "be3955fa",
   "metadata": {},
   "outputs": [
    {
     "name": "stdout",
     "output_type": "stream",
     "text": [
      "<class 'pandas.core.frame.DataFrame'>\n",
      "RangeIndex: 125226 entries, 0 to 125225\n",
      "Data columns (total 9 columns):\n",
      " #   Column        Non-Null Count   Dtype \n",
      "---  ------        --------------   ----- \n",
      " 0   order_id      125226 non-null  int64 \n",
      " 1   user_id       125226 non-null  int64 \n",
      " 2   status        125226 non-null  object\n",
      " 3   gender        125226 non-null  object\n",
      " 4   created_at    125226 non-null  object\n",
      " 5   returned_at   12530 non-null   object\n",
      " 6   shipped_at    81461 non-null   object\n",
      " 7   delivered_at  43884 non-null   object\n",
      " 8   num_of_item   125226 non-null  int64 \n",
      "dtypes: int64(3), object(6)\n",
      "memory usage: 8.6+ MB\n"
     ]
    }
   ],
   "source": [
    "orders.info()"
   ]
  },
  {
   "cell_type": "code",
   "execution_count": 11,
   "id": "3a611ab4",
   "metadata": {},
   "outputs": [
    {
     "name": "stdout",
     "output_type": "stream",
     "text": [
      "<class 'pandas.core.frame.DataFrame'>\n",
      "RangeIndex: 100000 entries, 0 to 99999\n",
      "Data columns (total 15 columns):\n",
      " #   Column          Non-Null Count   Dtype  \n",
      "---  ------          --------------   -----  \n",
      " 0   id              100000 non-null  int64  \n",
      " 1   first_name      100000 non-null  object \n",
      " 2   last_name       100000 non-null  object \n",
      " 3   email           100000 non-null  object \n",
      " 4   age             100000 non-null  int64  \n",
      " 5   gender          100000 non-null  object \n",
      " 6   state           100000 non-null  object \n",
      " 7   street_address  100000 non-null  object \n",
      " 8   postal_code     100000 non-null  object \n",
      " 9   city            99042 non-null   object \n",
      " 10  country         100000 non-null  object \n",
      " 11  latitude        100000 non-null  float64\n",
      " 12  longitude       100000 non-null  float64\n",
      " 13  traffic_source  100000 non-null  object \n",
      " 14  created_at      100000 non-null  object \n",
      "dtypes: float64(2), int64(2), object(11)\n",
      "memory usage: 11.4+ MB\n"
     ]
    }
   ],
   "source": [
    "users.info()"
   ]
  },
  {
   "cell_type": "code",
   "execution_count": null,
   "id": "f10d025c",
   "metadata": {},
   "outputs": [],
   "source": []
  }
 ],
 "metadata": {
  "kernelspec": {
   "display_name": "Python 3",
   "language": "python",
   "name": "python3"
  },
  "language_info": {
   "codemirror_mode": {
    "name": "ipython",
    "version": 3
   },
   "file_extension": ".py",
   "mimetype": "text/x-python",
   "name": "python",
   "nbconvert_exporter": "python",
   "pygments_lexer": "ipython3",
   "version": "3.11.0"
  }
 },
 "nbformat": 4,
 "nbformat_minor": 5
}
